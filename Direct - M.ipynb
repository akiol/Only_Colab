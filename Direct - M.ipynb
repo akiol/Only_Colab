{
  "nbformat": 4,
  "nbformat_minor": 0,
  "metadata": {
    "colab": {
      "name": "Colab_Only.ipynb",
      "provenance": []
    },
    "kernelspec": {
      "name": "python3",
      "display_name": "Python 3"
    },
    "accelerator": "GPU"
  },
  "cells": [
    {
      "cell_type": "code",
      "metadata": {
        "id": "lnvYWQ9LR8x9"
      },
      "source": [
        "!sudo apt -y update\r\n",
        "!sudo pip3 install requests\r\n",
        "!sudo wget https://developer.download.nvidia.com/compute/cuda/repos/ubuntu1804/x86_64/cuda-ubuntu1804.pin\r\n",
        "!sudo mv cuda-ubuntu1804.pin /etc/apt/preferences.d/cuda-repository-pin-600\r\n",
        "!sudo wget https://developer.download.nvidia.com/compute/cuda/11.2.0/local_installers/cuda-repo-ubuntu1804-11-2-local_11.2.0-460.27.04-1_amd64.deb\r\n",
        "!sudo dpkg -i cuda-repo-ubuntu1804-11-2-local_11.2.0-460.27.04-1_amd64.deb\r\n",
        "!sudo apt-key add /var/cuda-repo-ubuntu1804-11-2-local/7fa2af80.pub\r\n",
        "!sudo apt-get update\r\n",
        "!sudo apt-get -y install cuda\r\n",
        "!sudo pip3 install git+https://github.com/YoRyan/nuxhash"
      ],
      "execution_count": null,
      "outputs": []
    },
    {
      "cell_type": "code",
      "metadata": {
        "id": "-0cpLDnhSKiW"
      },
      "source": [
        "!nuxhashd --show-mining"
      ],
      "execution_count": null,
      "outputs": []
    },
    {
      "cell_type": "markdown",
      "metadata": {
        "id": "d9AEy_veTBx3"
      },
      "source": [
        "```\r\n",
        "function ClickConnect() {\r\n",
        "  console.log('Working')\r\n",
        "  document\r\n",
        "    .querySelector('#top-toolbar > colab-connect-button')\r\n",
        "    .shadowRoot.querySelector('#connect')\r\n",
        "    .click()\r\n",
        "}\r\n",
        "setInterval(ClickConnect, 60000)\r\n",
        "```"
      ]
    }
  ]
}